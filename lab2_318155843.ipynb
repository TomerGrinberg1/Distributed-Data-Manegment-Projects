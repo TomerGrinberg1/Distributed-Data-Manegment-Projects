{
  "nbformat": 4,
  "nbformat_minor": 0,
  "metadata": {
    "colab": {
      "provenance": []
    },
    "kernelspec": {
      "name": "python3",
      "display_name": "Python 3"
    },
    "language_info": {
      "name": "python"
    }
  },
  "cells": [
    {
      "cell_type": "code",
      "source": [
        "!pip install mrjob"
      ],
      "metadata": {
        "colab": {
          "base_uri": "https://localhost:8080/"
        },
        "id": "KYTKUGwQou5F",
        "outputId": "efc37f4e-a9ce-44df-f352-bf497f7aafe8"
      },
      "execution_count": 38,
      "outputs": [
        {
          "output_type": "stream",
          "name": "stdout",
          "text": [
            "Looking in indexes: https://pypi.org/simple, https://us-python.pkg.dev/colab-wheels/public/simple/\n",
            "Requirement already satisfied: mrjob in /usr/local/lib/python3.9/dist-packages (0.7.4)\n",
            "Requirement already satisfied: PyYAML>=3.10 in /usr/local/lib/python3.9/dist-packages (from mrjob) (6.0)\n"
          ]
        }
      ]
    },
    {
      "cell_type": "code",
      "execution_count": 39,
      "metadata": {
        "id": "PFnObicLPKa3"
      },
      "outputs": [],
      "source": [
        "import pandas as pd\n",
        "from mrjob.job import MRJob\n"
      ]
    },
    {
      "cell_type": "code",
      "source": [
        "data=pd.read_csv(\"10k_view_data.csv\")"
      ],
      "metadata": {
        "id": "is61yEg0PdWW"
      },
      "execution_count": 40,
      "outputs": []
    },
    {
      "cell_type": "markdown",
      "source": [
        "Pandas check for the result"
      ],
      "metadata": {
        "id": "mArWiWTxUqtL"
      }
    },
    {
      "cell_type": "code",
      "source": [
        "data_even=data[data[\"station_num\"]%2==0]\n",
        "mask=(data_even[\"event_time\"]>=200000) &( data_even[\"event_time\"]<=225959)\n",
        "data_prime=data_even[mask]\n",
        "counts=data_prime[\"prog_code\"].value_counts()\n",
        "print(counts[0],counts.keys()[0])"
      ],
      "metadata": {
        "colab": {
          "base_uri": "https://localhost:8080/"
        },
        "id": "nRSa8bC6PjXh",
        "outputId": "992fdb17-5186-452a-9fb5-9cb961cbf9d9"
      },
      "execution_count": 41,
      "outputs": [
        {
          "output_type": "stream",
          "name": "stdout",
          "text": [
            "181 SP003189730000\n"
          ]
        }
      ]
    },
    {
      "cell_type": "code",
      "source": [
        "%%file result.py\n",
        "\n",
        "from mrjob.job import MRJob\n",
        "from mrjob.step import MRStep\n",
        "\n",
        "\n",
        "class MRMaxEvenPrimeTimeShow(MRJob):\n",
        "\n",
        "    def steps(self):\n",
        "        return [\n",
        "            MRStep(mapper=self.mapper_get_values,\n",
        "                   combiner=self.combiner_count_values,\n",
        "                   reducer=self.reducer_count_values),\n",
        "            MRStep(reducer=self.reducer_find_max)\n",
        "        ]\n",
        "\n",
        "    def mapper_get_values(self, _, line):\n",
        "        if line.startswith('mso_code'):\n",
        "            return\n",
        "        fields =line.split(',')\n",
        "        if ((int(fields[4])%2 == 0) and (int(fields[3]) >=200000 )and (int(fields[3]) <=225959)):\n",
        "            yield  str(fields[5]),1\n",
        "        \n",
        "\n",
        "\n",
        "    def combiner_count_values(self,fields,counts):\n",
        "        yield fields, sum(counts)\n",
        "\n",
        "\n",
        "    def reducer_count_values(self ,fields, counts):\n",
        "        yield None, (sum(counts), fields)\n",
        "\n",
        "\n",
        "    def reducer_find_max(self, _, fields_count_pairs):\n",
        "        yield max(fields_count_pairs)\n",
        "\n",
        "\n",
        "\n",
        "# Press the green button in the gutter to run the script.\n",
        "if __name__ == '__main__':\n",
        "    MRMaxEvenPrimeTimeShow.run()\n"
      ],
      "metadata": {
        "id": "cqI1HuIIPv3d",
        "colab": {
          "base_uri": "https://localhost:8080/"
        },
        "outputId": "26af1223-ffeb-4d39-89cb-50426a515f37"
      },
      "execution_count": 42,
      "outputs": [
        {
          "output_type": "stream",
          "name": "stdout",
          "text": [
            "Overwriting result.py\n"
          ]
        }
      ]
    },
    {
      "cell_type": "code",
      "source": [
        "! python result.py  10k_view_data.csv"
      ],
      "metadata": {
        "id": "Ov4DNJVngJQq",
        "colab": {
          "base_uri": "https://localhost:8080/"
        },
        "outputId": "46c37035-8965-4b55-fb72-13afdb2c2290"
      },
      "execution_count": 43,
      "outputs": [
        {
          "output_type": "stream",
          "name": "stdout",
          "text": [
            "No configs found; falling back on auto-configuration\n",
            "No configs specified for inline runner\n",
            "Creating temp directory /tmp/result.root.20230412.084606.088229\n",
            "Running step 1 of 2...\n",
            "Running step 2 of 2...\n",
            "job output is in /tmp/result.root.20230412.084606.088229/output\n",
            "Streaming final output from /tmp/result.root.20230412.084606.088229/output...\n",
            "181\t\"SP003189730000\"\n",
            "Removing temp directory /tmp/result.root.20230412.084606.088229...\n"
          ]
        }
      ]
    },
    {
      "cell_type": "markdown",
      "source": [
        "I got the same answer ☺"
      ],
      "metadata": {
        "id": "XAl1BuGOoDJ8"
      }
    }
  ]
}