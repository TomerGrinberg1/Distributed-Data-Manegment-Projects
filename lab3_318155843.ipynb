{
  "nbformat": 4,
  "nbformat_minor": 0,
  "metadata": {
    "colab": {
      "provenance": []
    },
    "kernelspec": {
      "name": "python3",
      "display_name": "Python 3"
    },
    "language_info": {
      "name": "python"
    }
  },
  "cells": [
    {
      "cell_type": "code",
      "execution_count": 22,
      "metadata": {
        "colab": {
          "base_uri": "https://localhost:8080/",
          "height": 0
        },
        "id": "9swVPfQwpEVH",
        "outputId": "08b35b8a-0048-47f2-9732-23a7fed41219"
      },
      "outputs": [
        {
          "output_type": "stream",
          "name": "stdout",
          "text": [
            "Looking in indexes: https://pypi.org/simple, https://us-python.pkg.dev/colab-wheels/public/simple/\n",
            "Requirement already satisfied: findspark in /usr/local/lib/python3.9/dist-packages (2.0.1)\n"
          ]
        }
      ],
      "source": [
        "!pip install findspark\n"
      ]
    },
    {
      "cell_type": "code",
      "source": [
        "!pip install pyspark\n"
      ],
      "metadata": {
        "colab": {
          "base_uri": "https://localhost:8080/",
          "height": 0
        },
        "id": "mm_jBvjepgZX",
        "outputId": "b8ec2c08-c86d-4a45-88b9-43753f6fbbdb"
      },
      "execution_count": 23,
      "outputs": [
        {
          "output_type": "stream",
          "name": "stdout",
          "text": [
            "Looking in indexes: https://pypi.org/simple, https://us-python.pkg.dev/colab-wheels/public/simple/\n",
            "Requirement already satisfied: pyspark in /usr/local/lib/python3.9/dist-packages (3.4.0)\n",
            "Requirement already satisfied: py4j==0.10.9.7 in /usr/local/lib/python3.9/dist-packages (from pyspark) (0.10.9.7)\n"
          ]
        }
      ]
    },
    {
      "cell_type": "code",
      "source": [
        "import os\n",
        "import findspark\n",
        "findspark.init()\n",
        "from pyspark.sql import SparkSession\n",
        "\n",
        "def init_spark(app_name: str):\n",
        "  spark = SparkSession.builder.appName(app_name).getOrCreate()\n",
        "  sc = spark.sparkContext\n",
        "  return spark, sc\n",
        "\n",
        "spark, sc = init_spark('demo')\n"
      ],
      "metadata": {
        "id": "L0zK1waKpmL9"
      },
      "execution_count": 24,
      "outputs": []
    },
    {
      "cell_type": "code",
      "source": [
        "data_file = 'Lab3_view_data.csv'\n",
        "Lab3_view_data_rdd = sc.textFile(data_file)\n",
        "print('Type:', type(Lab3_view_data_rdd))\n",
        "print('Count:', Lab3_view_data_rdd.count())"
      ],
      "metadata": {
        "colab": {
          "base_uri": "https://localhost:8080/",
          "height": 0
        },
        "id": "Xd_yBdvbqDfH",
        "outputId": "a5919d0d-486b-4555-ae3e-fd45fc32918b"
      },
      "execution_count": 25,
      "outputs": [
        {
          "output_type": "stream",
          "name": "stdout",
          "text": [
            "Type: <class 'pyspark.rdd.RDD'>\n",
            "Count: 1048576\n"
          ]
        }
      ]
    },
    {
      "cell_type": "markdown",
      "source": [
        "Clean the column names:"
      ],
      "metadata": {
        "id": "FP6dLtkusSd-"
      }
    },
    {
      "cell_type": "code",
      "source": [
        "csv_rdd=Lab3_view_data_rdd.map(lambda row: row.split(','))\n",
        "header=csv_rdd.first()\n",
        "print(header)\n",
        "clean_data = csv_rdd.filter(lambda row: row != header)\n"
      ],
      "metadata": {
        "colab": {
          "base_uri": "https://localhost:8080/",
          "height": 0
        },
        "id": "J2puJqN7qjKT",
        "outputId": "ac1a20d1-9303-43d3-f178-76bb512845be"
      },
      "execution_count": 26,
      "outputs": [
        {
          "output_type": "stream",
          "name": "stdout",
          "text": [
            "['mso_code ', 'device_id ', 'event_date ', 'event_time', 'station_num', 'prog_code']\n"
          ]
        }
      ]
    },
    {
      "cell_type": "markdown",
      "source": [
        "Solution:"
      ],
      "metadata": {
        "id": "j9Pk_fMdsaTA"
      }
    },
    {
      "cell_type": "code",
      "source": [
        "prime_time_data = clean_data.filter(lambda row: int(row[3]) >=200000 and (int(row[3]) <=225959))\n",
        "\n",
        "# Map each device-date-time trio to a count of the number of events\n",
        "device_date_events_rdd = prime_time_data.map(lambda line: ((line[1], line[2],line[3]), 1))\n",
        "device_date_count_rdd = device_date_events_rdd.reduceByKey(lambda a, b: a + b)\n",
        "# Map each device to the total number of events across all dates\n",
        "device_total_events_rdd = device_date_count_rdd.map(lambda x: (x[0][0], x[1]))\n",
        "\n",
        "device_total_events_rdd = device_total_events_rdd.reduceByKey(lambda a, b: a + b)\n",
        "# device_total_events_rdd.collect()\n",
        "\n",
        "# # Count the number of unique dates\n",
        "unique_dates_count = prime_time_data.map(lambda line: line[2]).distinct().count()\n",
        "\n",
        "# # # Map each device to the average number of events per date\n",
        "device_avg_events_rdd = device_total_events_rdd.map(lambda x: (x[0], x[1] / unique_dates_count))\n",
        "# device_avg_events_rdd.collect()\n",
        "\n",
        "# # device_avg_events_rdd.collect()\n",
        "top_5_devices = device_avg_events_rdd.sortBy(lambda x: x[1], ascending=False).take(5)\n",
        "\n",
        "# # # Get the top 5 devices with the highest average number of events\n",
        "for device in top_5_devices:\n",
        "  print(device)"
      ],
      "metadata": {
        "colab": {
          "base_uri": "https://localhost:8080/",
          "height": 0
        },
        "id": "AJK36W0NiXQy",
        "outputId": "e33ed734-df05-437b-d013-f794ed650c92"
      },
      "execution_count": 30,
      "outputs": [
        {
          "output_type": "stream",
          "name": "stdout",
          "text": [
            "('7.5E+14', 97.64285714285714)\n",
            "('7.46E+14', 11.714285714285714)\n",
            "('7.503E+14', 9.357142857142858)\n",
            "('8.00001E+11', 7.5)\n",
            "('8.4843E+14', 5.5)\n"
          ]
        }
      ]
    }
  ]
}