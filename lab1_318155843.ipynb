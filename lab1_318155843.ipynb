{
  "nbformat": 4,
  "nbformat_minor": 0,
  "metadata": {
    "colab": {
      "provenance": [],
      "toc_visible": true
    },
    "kernelspec": {
      "name": "python3",
      "display_name": "Python 3"
    },
    "language_info": {
      "name": "python"
    }
  },
  "cells": [
    {
      "cell_type": "code",
      "execution_count": 1,
      "metadata": {
        "id": "ynOQGnWMjHyM"
      },
      "outputs": [],
      "source": [
        "\n",
        "import csv\n",
        "import json\n"
      ]
    },
    {
      "cell_type": "code",
      "source": [
        "\n",
        "def find_max(data):\n",
        "    TypeMax, AbilityMax, EvolutionMax = 0, 0, 0\n",
        "    for pokemon in data:\n",
        "        if len(pokemon['type']) > TypeMax:\n",
        "            TypeMax = len(pokemon['type'])\n",
        "        if len(pokemon['abilities']) > AbilityMax:\n",
        "            AbilityMax = len(pokemon['abilities'])\n",
        "        if len(pokemon['evolution']) > EvolutionMax:\n",
        "            EvolutionMax = len(pokemon['evolution'])\n",
        "    return TypeMax, AbilityMax, EvolutionMax\n"
      ],
      "metadata": {
        "id": "o3SvazLVD2p2"
      },
      "execution_count": 2,
      "outputs": []
    },
    {
      "cell_type": "code",
      "source": [
        "def json_to_tsv(path):\n",
        "    with open(path, encoding=\"utf8\") as json_file:\n",
        "        data = json.load(json_file)\n",
        "        data = sorted(data, key=lambda pokemon: pokemon['name'])\n",
        "        max_type, max_abilities, max_evolution = find_max(data)\n",
        "\n",
        "    with open('pokedex.tsv', 'w', encoding=\"utf8\", newline='') as csv_file:\n",
        "        writer = csv.writer(csv_file, delimiter='\\t', quotechar='|', quoting=csv.QUOTE_MINIMAL)\n",
        "        attributes = ['id', 'name', 'species']\n",
        "        for i in range(max_type):\n",
        "            attributes.append('type.' + str(i))\n",
        "        attributes.append('height')\n",
        "        attributes.append('weight')\n",
        "        for i in range(max_abilities):\n",
        "            attributes.append('abilities.' + str(i))\n",
        "        attributes.append('stats.hp')\n",
        "        attributes.append('stats.attack')\n",
        "        attributes.append('stats.defense')\n",
        "        attributes.append('stats.sp.atk')\n",
        "        attributes.append('stats.sp.def')\n",
        "        attributes.append('stats.speed')\n",
        "        attributes.append('stats.total')\n",
        "        for i in range(max_evolution):\n",
        "            attributes.append('evolution.' + str(i))\n",
        "        attributes.append('description')\n",
        "        attributes.append('gen')\n",
        "        writer.writerow(attributes)\n",
        "        for record in data:\n",
        "            # transforms the record to meters\n",
        "            record['height'] = record['height'].split(\"(\", 1)[1]\n",
        "            record['height'] = record['height'].split(\")\", 1)[0]\n",
        "            record['weight'] = record['weight'].split(\"(\", 1)[1]\n",
        "            record['weight'] = record['weight'].split(\")\", 1)[0]\n",
        "            # adding pokemon to the file\n",
        "            PokemonValues = [record['id'], record['name'], record['species']]\n",
        "            for type in record['type']:\n",
        "                PokemonValues.append(type)\n",
        "            #  adding blank spot for values that don't have the max num of this attribute\n",
        "            numBlankSpots = max_type - len(record['type'])\n",
        "            while numBlankSpots > 0:\n",
        "                PokemonValues.append('')\n",
        "                numBlankSpots = numBlankSpots - 1\n",
        "            PokemonValues.append(record['height'])\n",
        "            PokemonValues.append(record['weight'])\n",
        "            for ability in record['abilities']:\n",
        "                PokemonValues.append(ability)\n",
        "            #  adding blank spot for values that don't have the max num of this attribute\n",
        "            numBlankSpots = max_abilities - len(record['abilities'])\n",
        "            while numBlankSpots > 0:\n",
        "                PokemonValues.append('')\n",
        "                numBlankSpots = numBlankSpots - 1\n",
        "            PokemonValues.append(record['stats']['hp'])\n",
        "            PokemonValues.append(record['stats']['attack'])\n",
        "            PokemonValues.append(record['stats']['defense'])\n",
        "            PokemonValues.append(record['stats']['sp.atk'])\n",
        "            PokemonValues.append(record['stats']['sp.def'])\n",
        "            PokemonValues.append(record['stats']['speed'])\n",
        "            PokemonValues.append(record['stats']['total'])\n",
        "            for evolution in record['evolution']:\n",
        "                PokemonValues.append(evolution)\n",
        "            #  adding blank spot for values that don't have the max num of this attribute\n",
        "            numBlankSpots = max_evolution - len(record['evolution'])\n",
        "            while numBlankSpots > 0:\n",
        "                PokemonValues.append('')\n",
        "                numBlankSpots = numBlankSpots - 1\n",
        "            PokemonValues.append(record['description'])\n",
        "            PokemonValues.append(record['gen'])\n",
        "            writer.writerow(PokemonValues)\n"
      ],
      "metadata": {
        "id": "ilQnJ3USD7BZ"
      },
      "execution_count": 3,
      "outputs": []
    },
    {
      "cell_type": "code",
      "source": [
        "json_to_tsv('pokedex.json')\n"
      ],
      "metadata": {
        "id": "SgVz9Vh3EB_O"
      },
      "execution_count": 4,
      "outputs": []
    }
  ]
}